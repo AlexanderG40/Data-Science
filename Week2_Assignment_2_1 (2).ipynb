{
  "cells": [
    {
      "cell_type": "markdown",
      "metadata": {
        "id": "O2PrhW5BvC3E"
      },
      "source": [
        "**Python Practice**\n",
        "\n",
        "This assignment is to get started with a practice to Python for Data Science.\n",
        "\n",
        "Choose any 6 questions out of the questions below. 6 questions will be graded and the rest can be utilized for some practice."
      ]
    },
    {
      "cell_type": "markdown",
      "metadata": {
        "id": "ujhMol3ubYaw"
      },
      "source": [
        "Create a string variable greeting containing \"Hello, \" and another variable name containing your name. Concatenate these variables to form a greeting message and print it"
      ]
    },
    {
      "cell_type": "code",
      "execution_count": null,
      "metadata": {
        "colab": {
          "base_uri": "https://localhost:8080/"
        },
        "id": "Ept6SexKCEwQ",
        "outputId": "c117bf92-e622-47f1-864e-7a5a617f2eca"
      },
      "outputs": [
        {
          "name": "stdout",
          "output_type": "stream",
          "text": [
            "Hello, Alexander\n"
          ]
        }
      ],
      "source": [
        "#Your answer must go here\n",
        "first_name = \"Alexander\"\n",
        "print(\"Hello, \" + first_name)"
      ]
    },
    {
      "cell_type": "markdown",
      "metadata": {
        "id": "q6Q3a2icbfJb"
      },
      "source": [
        "Write a Python program which accepts a sequence of comma-separated numbers\n",
        "from the user and generate a list with those numbers. Arrange them in ascending order"
      ]
    },
    {
      "cell_type": "code",
      "execution_count": null,
      "metadata": {
        "id": "v2MZd11TCT1Q"
      },
      "outputs": [],
      "source": [
        "#Your answer must go here\n"
      ]
    },
    {
      "cell_type": "markdown",
      "metadata": {
        "id": "tD9ZO5LqcPHJ"
      },
      "source": [
        "Write a Python program to display the first and last letters from the given list of names: [\"Adam\",\"Alex\",\"Emmanuel\" ,\"Robert\", \"Finn\"]."
      ]
    },
    {
      "cell_type": "code",
      "execution_count": null,
      "metadata": {
        "colab": {
          "base_uri": "https://localhost:8080/"
        },
        "id": "65y1fHv0CVXu",
        "outputId": "d05f960f-acfc-4ed7-b67a-dee6340810b7"
      },
      "outputs": [
        {
          "name": "stdout",
          "output_type": "stream",
          "text": [
            "Name: Adam, First Letter: A, Last Letter: m\n",
            "Name: Alex, First Letter: A, Last Letter: x\n",
            "Name: Emmanuel, First Letter: E, Last Letter: l\n",
            "Name: Robert, First Letter: R, Last Letter: t\n",
            "Name: Finn, First Letter: F, Last Letter: n\n"
          ]
        }
      ],
      "source": [
        "#Your answer must go here\n",
        "names =  [\"Adam\",\"Alex\",\"Emmanuel\" ,\"Robert\", \"Finn\"]\n",
        "# here we look for the first letter which starts as a 0 and the last letter a -1\n",
        "for name in names:\n",
        "  first_letters = name[0]\n",
        "  last_letters = name[-1]\n",
        "  print(f\"Name: {name}, First Letter: {first_letters}, Last Letter: {last_letters}\")"
      ]
    },
    {
      "cell_type": "markdown",
      "metadata": {
        "id": "VyB-z66Vcxjs"
      },
      "source": [
        "Take a string as an input. Write a python program to create a new string using the first, middle, and last characters of the input string."
      ]
    },
    {
      "cell_type": "code",
      "execution_count": null,
      "metadata": {
        "id": "fywPaeQ9CWoQ"
      },
      "outputs": [],
      "source": [
        "#Your answer must go here\n"
      ]
    },
    {
      "cell_type": "markdown",
      "metadata": {
        "id": "4KoZnsVnc7K7"
      },
      "source": [
        "Write a python program to take a string as an input and reverse it"
      ]
    },
    {
      "cell_type": "code",
      "execution_count": null,
      "metadata": {
        "colab": {
          "base_uri": "https://localhost:8080/"
        },
        "id": "-C4HsLcjCXwT",
        "outputId": "d365a165-941e-4218-a222-8b987a3035fd"
      },
      "outputs": [
        {
          "name": "stdout",
          "output_type": "stream",
          "text": [
            "!TAU evol I\n"
          ]
        }
      ],
      "source": [
        "#Your answer must go here\n",
        "# we use the slice statement using -1 because it has to move the step backwards pretty much\n",
        "input = \"I love UAT!\"[::-1]\n",
        "print(input)"
      ]
    },
    {
      "cell_type": "markdown",
      "metadata": {
        "id": "x-5HZ4ghtHf-"
      },
      "source": [
        "**Collections**"
      ]
    },
    {
      "cell_type": "markdown",
      "metadata": {
        "id": "iGAnSQaMs-kU"
      },
      "source": [
        "Take an input of numbers in a list and create a new list containing only the even numbers from the original list."
      ]
    },
    {
      "cell_type": "code",
      "execution_count": null,
      "metadata": {
        "colab": {
          "base_uri": "https://localhost:8080/"
        },
        "id": "du-AQi1jCema",
        "outputId": "1b428546-ed80-4b63-ec0d-e17aafc469f6"
      },
      "outputs": [
        {
          "name": "stdout",
          "output_type": "stream",
          "text": [
            "481012"
          ]
        }
      ],
      "source": [
        "#Your answer must go here\n",
        "# here we set up a list using its [] which makes it a list\n",
        "# now to make that list only print even numbers we have to make it divisible by two since two is even\n",
        "x = [1, 3, 4, 5, 7, 8, 9, 10, 11, 12]\n",
        "for value in x:\n",
        "  if value % 2 == 0:\n",
        "    print(value)"
      ]
    },
    {
      "cell_type": "markdown",
      "metadata": {
        "id": "2PHWbU8HtNO-"
      },
      "source": [
        "Take a list of strings (words) and create a new list containing the lengths of each word in the original list."
      ]
    },
    {
      "cell_type": "code",
      "execution_count": null,
      "metadata": {
        "id": "S_vHvvR6Cfav"
      },
      "outputs": [],
      "source": [
        "#Your answer must go here"
      ]
    },
    {
      "cell_type": "markdown",
      "metadata": {
        "id": "8gzK9MNStgx5"
      },
      "source": [
        "Create a dictionary student_grades with keys as student names and values as their respective grades. Find the student with the highest grade and print the output"
      ]
    },
    {
      "cell_type": "code",
      "execution_count": null,
      "metadata": {
        "colab": {
          "base_uri": "https://localhost:8080/"
        },
        "id": "dcUL0Yj3CgVQ",
        "outputId": "09992d6b-1a98-4a76-fa29-bd17afc76667"
      },
      "outputs": [
        {
          "name": "stdout",
          "output_type": "stream",
          "text": [
            "The best student in the class is, Ashley with the number of 93.\n"
          ]
        }
      ],
      "source": [
        "#Your answer must go here\n",
        "# start of my function that looks for the highest grade\n",
        "def best_grade(student_grades):\n",
        "    # gets all of the grades and gets the max or the highest\n",
        "    highest_bestgrd = max(student_grades, key=student_grades.get)\n",
        "    highest_grd = student_grades[highest_bestgrd]\n",
        "\n",
        "    print(f\"The best student in the class is, {highest_bestgrd} with the number of {highest_grd}.\")\n",
        "# our dictionary\n",
        "student_grades = {\n",
        "    \"Joseph\" : 68,\n",
        "    \"Amber\": 87,\n",
        "    \"Alex\": 85,\n",
        "    \"Ashley\": 93\n",
        "}\n",
        "\n",
        "best_grade(student_grades)"
      ]
    },
    {
      "cell_type": "markdown",
      "metadata": {
        "id": "E1B78qP8tupG"
      },
      "source": [
        "Define two sets, set1 and set2, containing some common elements. Remove the duplicate elements from set1 that are also present in set2."
      ]
    },
    {
      "cell_type": "code",
      "execution_count": null,
      "metadata": {
        "colab": {
          "base_uri": "https://localhost:8080/"
        },
        "id": "yyD4jH4AChIl",
        "outputId": "11331879-a300-4d06-b317-faf480d1b431"
      },
      "outputs": [
        {
          "name": "stdout",
          "output_type": "stream",
          "text": [
            "Final set:  {1, 2, 3, 5, 7}\n"
          ]
        }
      ],
      "source": [
        "#Your answer must go here\n",
        "def remove_repetition(set1, set2):\n",
        "    # here we remove the elements from set1 that are also found in set2 using the -= which is the same as x = x-9\n",
        "    set1 -= set2\n",
        "    return set1\n",
        "# start of our two sets\n",
        "set1 = {1, 2, 3, 4, 5, 6, 7}\n",
        "set2 = {4, 6, 8}\n",
        "# we call it and print the updated set\n",
        "updatedset1 = remove_repetition(set1, set2)\n",
        "print(\"Final set: \", updatedset1)"
      ]
    },
    {
      "cell_type": "markdown",
      "metadata": {
        "id": "2qhPexHqt0fv"
      },
      "source": [
        "Create a dictionary word_count to count the occurrences of each word in a given sentence. Print the top 3 most common words along with their counts."
      ]
    },
    {
      "cell_type": "code",
      "execution_count": null,
      "metadata": {
        "id": "XmxnACB1CiUV"
      },
      "outputs": [],
      "source": [
        "#Your answer must go here"
      ]
    }
  ],
  "metadata": {
    "colab": {
      "provenance": []
    },
    "kernelspec": {
      "display_name": "Python 3",
      "name": "python3"
    },
    "language_info": {
      "name": "python"
    }
  },
  "nbformat": 4,
  "nbformat_minor": 0
}
