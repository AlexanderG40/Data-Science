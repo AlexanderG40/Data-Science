{
  "nbformat": 4,
  "nbformat_minor": 0,
  "metadata": {
    "colab": {
      "provenance": [],
      "include_colab_link": true
    },
    "kernelspec": {
      "name": "python3",
      "display_name": "Python 3"
    },
    "language_info": {
      "name": "python"
    }
  },
  "cells": [
    {
      "cell_type": "markdown",
      "metadata": {
        "id": "view-in-github",
        "colab_type": "text"
      },
      "source": [
        "<a href=\"https://colab.research.google.com/github/AlexanderG40/Data-Science/blob/main/Week3_Assignment_3_1.ipynb\" target=\"_parent\"><img src=\"https://colab.research.google.com/assets/colab-badge.svg\" alt=\"Open In Colab\"/></a>"
      ]
    },
    {
      "cell_type": "markdown",
      "source": [
        "Read the dataset using pandas. The dataset will be available in the same folder.\n",
        "After reading the dataset, perform the following exploratory data analysis.\n",
        "\n",
        "Dataset resource:\n",
        "https://www.openintro.org/data/index.php\n",
        "\n",
        "https://www.openintro.org/data/index.php?data=nycflights\n"
      ],
      "metadata": {
        "id": "667vjeJv1xRT"
      }
    },
    {
      "cell_type": "markdown",
      "source": [
        "You can choose to **answer 5 questions** for the assignment. **5 are graded**\n",
        "\n",
        "***Use the rest to test your knowledge***"
      ],
      "metadata": {
        "id": "_Hooi2yOHkU3"
      }
    },
    {
      "cell_type": "markdown",
      "source": [
        "1. How many flights were operated by American Airlines and how many by Delta Airlines ?"
      ],
      "metadata": {
        "id": "8a5x8_yJEhY_"
      }
    },
    {
      "cell_type": "code",
      "source": [
        "#Code here\n",
        "import pandas as pd\n",
        "\n",
        "# here we count the number of times our pandas sees each carrier by carrier such as by AA, DL, etc.\n",
        "num_each_carrier = df['carrier'].value_counts()\n",
        "\n",
        "# here we count the number of times we actually see AA and DL as the carrier codes for American and Delta\n",
        "american_air = num_each_carrier.get('AA', 0)\n",
        "delta_air = num_each_carrier.get('DL', 0)\n",
        "\n",
        "# we finally print the number of times AA appears and DL appears\n",
        "print(f\"Number of flights operated by AA: {american_air}\")\n",
        "print(f\"Number of flights operated by DL: {delta_air}\")\n"
      ],
      "metadata": {
        "id": "o96PlT0mEjBi",
        "outputId": "52838a71-6c39-446c-8b44-fd991da1ab55",
        "colab": {
          "base_uri": "https://localhost:8080/"
        }
      },
      "execution_count": null,
      "outputs": [
        {
          "output_type": "stream",
          "name": "stdout",
          "text": [
            "Number of flights operated by AA: 3188\n",
            "Number of flights operated by DL: 4751\n"
          ]
        }
      ]
    },
    {
      "cell_type": "markdown",
      "source": [
        "2. Identify the top destinations from each JFK airport."
      ],
      "metadata": {
        "id": "JZqOpQMQEyu3"
      }
    },
    {
      "cell_type": "code",
      "source": [
        "#Code here\n",
        "import pandas as pd\n",
        "\n",
        "df = pd.read_csv(\"/content/nycflights.csv\")\n",
        "\n",
        "# here we pretty much look for the origin where it equals to JFK.\n",
        "jfk_flights = df[df['origin'] == 'JFK']\n",
        "\n",
        "# here we find the destination for the JFK airport\n",
        "top_destination = jfk_flights['dest'].value_counts()\n",
        "# we print the top destiantion for JFK\n",
        "print(top_destination)"
      ],
      "metadata": {
        "id": "CnR-xfeYE29t",
        "outputId": "2e53437b-8f20-4768-f6bb-2640c99abf73",
        "colab": {
          "base_uri": "https://localhost:8080/"
        }
      },
      "execution_count": null,
      "outputs": [
        {
          "output_type": "stream",
          "name": "stdout",
          "text": [
            "dest\n",
            "LAX    1115\n",
            "SFO     832\n",
            "BOS     585\n",
            "MCO     529\n",
            "SJU     471\n",
            "       ... \n",
            "MVY      16\n",
            "MKE      15\n",
            "EGE      10\n",
            "SDF       3\n",
            "PSP       2\n",
            "Name: count, Length: 66, dtype: int64\n"
          ]
        }
      ]
    },
    {
      "cell_type": "markdown",
      "source": [
        "3. Count the number of flights departing from each origin airport to different destinations.\n"
      ],
      "metadata": {
        "id": "BmetP3U8FMRc"
      }
    },
    {
      "cell_type": "code",
      "source": [
        "#Code here\n",
        "# we can count the number of flights from origin to destination using the .value_counts which counts the number of times they are both seen in the data set\n",
        "#source: https://www.geeksforgeeks.org/python-pandas-series-value_counts/\n",
        "num_of_flights = df[['origin', 'dest']].value_counts()\n",
        "\n",
        "print(num_of_flights)"
      ],
      "metadata": {
        "id": "V66Rj-WwFJ_6",
        "colab": {
          "base_uri": "https://localhost:8080/"
        },
        "outputId": "5dfd83f0-31cd-44f0-bdda-a3c3942b39ac"
      },
      "execution_count": 5,
      "outputs": [
        {
          "output_type": "stream",
          "name": "stdout",
          "text": [
            "origin  dest\n",
            "JFK     LAX     1115\n",
            "LGA     ATL      946\n",
            "JFK     SFO      832\n",
            "LGA     ORD      801\n",
            "EWR     ORD      601\n",
            "                ... \n",
            "        ANC        1\n",
            "        TVC        1\n",
            "LGA     CAE        1\n",
            "        EYW        1\n",
            "        CHO        1\n",
            "Name: count, Length: 214, dtype: int64\n"
          ]
        }
      ]
    },
    {
      "cell_type": "markdown",
      "source": [
        "4. How missing values are there in the column dep_time?\n"
      ],
      "metadata": {
        "id": "zMZ0HfmgFVNT"
      }
    },
    {
      "cell_type": "code",
      "source": [
        "#Code here\n",
        "# here we count the number of times we see NAN in dep_time and we sum it or add it up\n",
        "dep_Time = df['dep_time'].isna().sum()\n",
        "\n",
        "# we finally print out our result with the number of missing values\n",
        "print(f\"The total number of missing values: {dep_Time}\")"
      ],
      "metadata": {
        "id": "uuOnm7j-HPOZ",
        "outputId": "1ef489ea-2c11-492f-eaaa-731b9d6659bd",
        "colab": {
          "base_uri": "https://localhost:8080/"
        }
      },
      "execution_count": null,
      "outputs": [
        {
          "output_type": "stream",
          "name": "stdout",
          "text": [
            "The total number of missing values: 0\n"
          ]
        }
      ]
    },
    {
      "cell_type": "markdown",
      "source": [
        "5. Identify the airline with the highest average departure delay.\n"
      ],
      "metadata": {
        "id": "GDfrzusyFcKK"
      }
    },
    {
      "cell_type": "code",
      "source": [
        "import pandas as pd\n",
        "\n",
        "df = pd.read_csv(\"/content/nycflights.csv\")\n",
        "\n",
        "# we first find the mean of the delays this will help us clean up our data and only have the airlines that have the most delays\n",
        "average_delays = df.groupby('carrier')['dep_delay'].mean()\n",
        "# we use idxmax to find the index of the maximum occurance so it pretty much searches for the airline using its code for example DL then\n",
        "# we look for the time on average the airline was delayed/late\n",
        "# while .max just gives out the maximum value found within a data set\n",
        "# sources: https://www.geeksforgeeks.org/python-pandas-dataframe-idxmax/\n",
        "# https://www.w3schools.com/python/pandas/ref_df_idxmax.asp\n",
        "# https://stackoverflow.com/questions/60083433/what%c2%b4s-the-difference-between-idxmax-and-max-inside-a-groupby-pandas\n",
        "most_delayed_airline = average_delays.idxmax()\n",
        "# here we actually finally find the airline amount of delay\n",
        "delayed_airline = average_delays.max()\n",
        "# we finally print out our airline with the highest average delay\n",
        "print(f\"The most delayed airline on average is {most_delayed_airline} with a delay of {delayed_airline}\")"
      ],
      "metadata": {
        "id": "anz3i3ErHQCC",
        "colab": {
          "base_uri": "https://localhost:8080/"
        },
        "outputId": "495a0a88-b690-4915-f5e8-87a95ffa481d"
      },
      "execution_count": 4,
      "outputs": [
        {
          "output_type": "stream",
          "name": "stdout",
          "text": [
            "The most delayed airline on average is HA with a delay of 38.529411764705884\n"
          ]
        }
      ]
    },
    {
      "cell_type": "markdown",
      "source": [
        "6. Count the number of flights departing from each origin airport to different destinations.\n"
      ],
      "metadata": {
        "id": "f6clZM7_E5A7"
      }
    },
    {
      "cell_type": "code",
      "source": [
        "#Code here"
      ],
      "metadata": {
        "id": "1qMykSrcHSky"
      },
      "execution_count": null,
      "outputs": []
    },
    {
      "cell_type": "markdown",
      "source": [
        "7. Extract the hour, minutes from the 'DEP_TIME' column and add put it into new column with appropriate names"
      ],
      "metadata": {
        "id": "EYVU1eyTF8FE"
      }
    },
    {
      "cell_type": "code",
      "source": [
        "#Code here"
      ],
      "metadata": {
        "id": "KFrQlL-OHTYF"
      },
      "execution_count": null,
      "outputs": []
    },
    {
      "cell_type": "markdown",
      "source": [
        "8. Plot a histogram to visualize the distribution of departure delays during different times of the day.\n",
        "\n",
        "**Note: dep_delay, arr_delay values are in minutes. Negative times represent early departures/arrivals.**\n",
        "\n",
        "\n",
        "\n",
        "\n"
      ],
      "metadata": {
        "id": "DLMJ0c3eDJDM"
      }
    },
    {
      "cell_type": "code",
      "execution_count": null,
      "metadata": {
        "id": "kNIgK9Gk1p-H"
      },
      "outputs": [],
      "source": [
        "#Code here"
      ]
    }
  ]
}