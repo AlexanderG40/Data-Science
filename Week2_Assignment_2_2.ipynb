{
  "nbformat": 4,
  "nbformat_minor": 0,
  "metadata": {
    "colab": {
      "provenance": [],
      "include_colab_link": true
    },
    "kernelspec": {
      "name": "python3",
      "display_name": "Python 3"
    },
    "language_info": {
      "name": "python"
    }
  },
  "cells": [
    {
      "cell_type": "markdown",
      "metadata": {
        "id": "view-in-github",
        "colab_type": "text"
      },
      "source": [
        "<a href=\"https://colab.research.google.com/github/AlexanderG40/Data-Science/blob/main/Week2_Assignment_2_2.ipynb\" target=\"_parent\"><img src=\"https://colab.research.google.com/assets/colab-badge.svg\" alt=\"Open In Colab\"/></a>"
      ]
    },
    {
      "cell_type": "markdown",
      "source": [
        "Write a NumPy program to reshape this 1D array [1 2 3 4 5 6] into a 2D array with 2 rows."
      ],
      "metadata": {
        "id": "kz7jtNtR-HkY"
      }
    },
    {
      "cell_type": "code",
      "execution_count": 1,
      "metadata": {
        "id": "JuREvIZ6-MTw",
        "outputId": "120b7d5b-8514-4728-82ee-c71add477028",
        "colab": {
          "base_uri": "https://localhost:8080/"
        }
      },
      "outputs": [
        {
          "output_type": "stream",
          "name": "stdout",
          "text": [
            "[[1 2 3]\n",
            " [4 5 6]]\n"
          ]
        }
      ],
      "source": [
        "# Code here\n",
        "import numpy as np\n",
        "# here we added our array given\n",
        "array = np.array([1, 2, 3, 4, 5, 6])\n",
        "# here is where we reshape our array into 2D using 2 rows and 3 columns\n",
        "reshaped = array.reshape(2,3)\n",
        "# we print our new array in 2d\n",
        "print(reshaped)"
      ]
    },
    {
      "cell_type": "markdown",
      "source": [
        "Write a NumPy program to perform matrix multiplication between a 3x3 matrix and a 3x2 matrix"
      ],
      "metadata": {
        "id": "_kKotX90-Ltr"
      }
    },
    {
      "cell_type": "code",
      "execution_count": 2,
      "metadata": {
        "id": "KBE4Xatd-Na8",
        "outputId": "6264b440-7f72-4cdb-844f-cc8de9fced66",
        "colab": {
          "base_uri": "https://localhost:8080/"
        }
      },
      "outputs": [
        {
          "output_type": "stream",
          "name": "stdout",
          "text": [
            "[[ 22  28]\n",
            " [ 49  64]\n",
            " [ 76 100]]\n"
          ]
        }
      ],
      "source": [
        "# Code here\n",
        "import numpy as np\n",
        "# here is the start of our first array which is a 3x3 3 rows, 3 columns\n",
        "array1 = np.array([[1, 2, 3],\n",
        "                   [4, 5, 6],\n",
        "                   [7, 8, 9]])\n",
        "# our second array\n",
        "array2 = np.array([[1, 2,],\n",
        "                   [3, 4],\n",
        "                   [5, 6]])\n",
        "# we use the np.dot as that is what multiply our two matrixes\n",
        "multiply = np.dot(array1, array2)\n",
        "#here we print our result that we get\n",
        "print(multiply)"
      ]
    },
    {
      "cell_type": "markdown",
      "source": [
        "Write a NumPy program to find the most frequent value and the number of times it occured in the array\n",
        "\n",
        "\n",
        "[\n",
        "\n",
        "    [1, 2, 3, 2, 1],\n",
        "    [4, 2, 5, 2, 6],\n",
        "    [2, 1, 2, 3, 2],\n",
        "    [7, 2, 8, 2, 9]  \n",
        " ]"
      ],
      "metadata": {
        "id": "4AaHHXgP-U2H"
      }
    },
    {
      "cell_type": "code",
      "execution_count": 9,
      "metadata": {
        "id": "FE8o-YBf-efj",
        "outputId": "540e5f0f-951b-4c3d-df83-573f88554b2c",
        "colab": {
          "base_uri": "https://localhost:8080/"
        }
      },
      "outputs": [
        {
          "output_type": "stream",
          "name": "stdout",
          "text": [
            "The most frequent number is: 2, with a total frequency of: 9\n"
          ]
        }
      ],
      "source": [
        "# Code here\n",
        "import numpy as np\n",
        "\n",
        "# use the array given to us\n",
        "data = np.array([\n",
        "   [1, 2, 3, 2, 1],\n",
        "   [4, 2, 5, 2, 6],\n",
        "   [2, 1, 2, 3, 2],\n",
        "   [7, 2, 8, 2, 9]\n",
        "])\n",
        "\n",
        "# here we find all the numbers and then it counts all the numbers to see which one appears more and more\n",
        "# using np.unique it looks for all the numbers and if we were to print even though two is the most frequent it would only print one in the output\n",
        "# https://www.geeksforgeeks.org/python-numpy-np-unique-method/\n",
        "# https://www.geeksforgeeks.org/numpy-argmax-python/\n",
        "numbers, num_count = np.unique(data, return_counts=True)\n",
        "# here we set up the function to handle its numbers count\n",
        "most_frequent = numbers[np.argmax(num_count)]\n",
        "# here we set up to see how many times our most frequent value appears in our array\n",
        "value_frequency = num_count[np.argmax(num_count)]\n",
        "\n",
        "print(f\"The most frequent number is: {most_frequent}, with a total frequency of: {value_frequency}\")"
      ]
    },
    {
      "cell_type": "markdown",
      "source": [
        "Given a NumPy array representing a dataset with missing values, write a program to replace all the missing values (NaNs) with the mean of the respective column.\n",
        "\n",
        "[  [ 1.  2. nan  4.  5.],\n",
        "\n",
        " [ 6. nan  8.  9. 10.],\n",
        "\n",
        " [11. 12. 13. nan 15.],\n",
        "\n",
        " [16. 17. nan 19. 20.],\n",
        "\n",
        " [nan 22. 23. 24. 25.]  ]"
      ],
      "metadata": {
        "id": "_dN47xLJ-jDC"
      }
    },
    {
      "cell_type": "code",
      "execution_count": 8,
      "metadata": {
        "id": "NItipXf4-qX7",
        "outputId": "4672a89e-615b-4035-ba00-63b5bcd4cd8b",
        "colab": {
          "base_uri": "https://localhost:8080/"
        }
      },
      "outputs": [
        {
          "output_type": "stream",
          "name": "stdout",
          "text": [
            "[[ 1.          2.         14.66666667  4.          5.        ]\n",
            " [ 6.         13.25        8.          9.         10.        ]\n",
            " [11.         12.         13.         14.         15.        ]\n",
            " [16.         17.         14.66666667 19.         20.        ]\n",
            " [ 8.5        22.         23.         24.         25.        ]]\n"
          ]
        }
      ],
      "source": [
        "# Code here\n",
        "import numpy as np\n",
        "\n",
        "#we add the data given to us\n",
        "data = np.array([\n",
        "    [1, 2, np.nan, 4, 5],\n",
        "\n",
        "    [6, np.nan, 8, 9, 10],\n",
        "\n",
        "    [11, 12, 13, np.nan, 15],\n",
        "\n",
        "    [16, 17, np.nan, 19, 20],\n",
        "\n",
        "    [np.nan, 22, 23, 24, 25]\n",
        "])\n",
        "\n",
        "# here we make it so that the nan pretty much does not exists/ ignores it and replaces with mean\n",
        "# here is a little bit of how it works, np.where \"where\" nan replaces the Nan with the means\n",
        "# np.isnan checks for the anywhere where there is a nan if it is true it checks\n",
        "# np.nanmean calculates the mean\n",
        "# resources used:\n",
        "# https://numpy.org/doc/stable/reference/generated/numpy.nanmean.html\n",
        "# https://www.geeksforgeeks.org/numpy-mean-in-python/\n",
        "# https://numpy.org/doc/stable/reference/generated/numpy.where.html\n",
        "# https://www.geeksforgeeks.org/numpy-isnan-python/\n",
        "data = np.where(np.isnan(data), np.nanmean(data, axis=0), data)\n",
        "\n",
        "print(data)"
      ]
    },
    {
      "cell_type": "markdown",
      "source": [
        "Write a program that takes a NumPy array representing a dataset with a column of dates and create a new column extracting the month of each date.\n",
        "\n",
        "np.array([\n",
        "\n",
        "    ('2024-01-15', 10, 100),\n",
        "    ('2024-02-28', 15, 150),\n",
        "    ('2024-03-10', 20, 200),\n",
        "    ('2024-04-22', 25, 250),\n",
        "    ('2024-05-05', 30, 300),\n",
        "    ('2024-06-18', 35, 350),\n",
        "    ('2024-07-30', 40, 400),\n",
        "    ('2024-08-12', 45, 450),\n",
        "    ('2024-09-25', 50, 500),\n",
        "    ('2024-10-07', 55, 550)\n",
        "]"
      ],
      "metadata": {
        "id": "xOZ-z86J-l-q"
      }
    },
    {
      "cell_type": "code",
      "execution_count": 7,
      "metadata": {
        "id": "HOzzT0QO-qrM",
        "outputId": "57b8a511-f49f-4bf6-a9ed-28bed944d8c6",
        "colab": {
          "base_uri": "https://localhost:8080/"
        }
      },
      "outputs": [
        {
          "output_type": "stream",
          "name": "stdout",
          "text": [
            "[['2024-01-15' '10' '100' '1']\n",
            " ['2024-02-28' '15' '150' '2']\n",
            " ['2024-03-10' '20' '200' '3']\n",
            " ['2024-04-22' '25' '250' '4']\n",
            " ['2024-05-05' '30' '300' '5']\n",
            " ['2024-06-18' '35' '350' '6']\n",
            " ['2024-07-30' '40' '400' '7']\n",
            " ['2024-08-12' '45' '450' '8']\n",
            " ['2024-09-25' '50' '500' '9']\n",
            " ['2024-10-07' '55' '550' '10']]\n"
          ]
        }
      ],
      "source": [
        "# Code here\n",
        "import numpy as np\n",
        "# we also import datetime unless we want to use it doing datetime64 but thats a bit more technical and advanced\n",
        "from datetime import datetime\n",
        "# here we import our data that is given to us\n",
        "data = np.array([\n",
        "    ('2024-01-15', 10, 100),\n",
        "    ('2024-02-28', 15, 150),\n",
        "    ('2024-03-10', 20, 200),\n",
        "    ('2024-04-22', 25, 250),\n",
        "    ('2024-05-05', 30, 300),\n",
        "    ('2024-06-18', 35, 350),\n",
        "    ('2024-07-30', 40, 400),\n",
        "    ('2024-08-12', 45, 450),\n",
        "    ('2024-09-25', 50, 500),\n",
        "    ('2024-10-07', 55, 550)\n",
        "])\n",
        "\n",
        "# we extract only the dates from the array and ignore everything else\n",
        "dates = data[:, 0]\n",
        "\n",
        "# we use the np.array to extract the month using our datetime we imported\n",
        "# https://www.geeksforgeeks.org/python-datetime-strptime-function/\n",
        "months = np.array([datetime.strptime(date, '%Y-%m-%d').month for date in dates])\n",
        "\n",
        "# we use the numpy column_stack to stack the new columns of dates next to our random numbers\n",
        "# https://www.geeksforgeeks.org/numpy-column_stack-in-python/\n",
        "\n",
        "new_column = np.column_stack((data, months))\n",
        "\n",
        "print(new_column)\n",
        "\n",
        "\n"
      ]
    }
  ]
}