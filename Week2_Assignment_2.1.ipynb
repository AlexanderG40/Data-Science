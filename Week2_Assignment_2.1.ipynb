{
  "nbformat": 4,
  "nbformat_minor": 0,
  "metadata": {
    "colab": {
      "provenance": [],
      "include_colab_link": true
    },
    "kernelspec": {
      "name": "python3",
      "display_name": "Python 3"
    },
    "language_info": {
      "name": "python"
    }
  },
  "cells": [
    {
      "cell_type": "markdown",
      "metadata": {
        "id": "view-in-github",
        "colab_type": "text"
      },
      "source": [
        "<a href=\"https://colab.research.google.com/github/AlexanderG40/Data-Science/blob/main/Week2_Assignment_2.1.ipynb\" target=\"_parent\"><img src=\"https://colab.research.google.com/assets/colab-badge.svg\" alt=\"Open In Colab\"/></a>"
      ]
    },
    {
      "cell_type": "markdown",
      "source": [
        "**Python Practice**\n",
        "\n",
        "This assignment is to get started with a practice to Python for Data Science.\n",
        "\n",
        "Choose any 6 questions out of the questions below. 6 questions will be graded and the rest can be utilized for some practice."
      ],
      "metadata": {
        "id": "O2PrhW5BvC3E"
      }
    },
    {
      "cell_type": "markdown",
      "source": [
        "Create a string variable greeting containing \"Hello, \" and another variable name containing your name. Concatenate these variables to form a greeting message and print it"
      ],
      "metadata": {
        "id": "ujhMol3ubYaw"
      }
    },
    {
      "cell_type": "code",
      "source": [
        "#Your answer must go here\n",
        "first_name = \"Alexander\"\n",
        "print(\"Hello, \" + first_name)"
      ],
      "metadata": {
        "id": "Ept6SexKCEwQ",
        "outputId": "c117bf92-e622-47f1-864e-7a5a617f2eca",
        "colab": {
          "base_uri": "https://localhost:8080/"
        }
      },
      "execution_count": null,
      "outputs": [
        {
          "output_type": "stream",
          "name": "stdout",
          "text": [
            "Hello, Alexander\n"
          ]
        }
      ]
    },
    {
      "cell_type": "markdown",
      "source": [
        "Write a Python program which accepts a sequence of comma-separated numbers\n",
        "from the user and generate a list with those numbers. Arrange them in ascending order"
      ],
      "metadata": {
        "id": "q6Q3a2icbfJb"
      }
    },
    {
      "cell_type": "code",
      "source": [
        "#Your answer must go here\n"
      ],
      "metadata": {
        "id": "v2MZd11TCT1Q"
      },
      "execution_count": null,
      "outputs": []
    },
    {
      "cell_type": "markdown",
      "source": [
        "Write a Python program to display the first and last letters from the given list of names: [\"Adam\",\"Alex\",\"Emmanuel\" ,\"Robert\", \"Finn\"]."
      ],
      "metadata": {
        "id": "tD9ZO5LqcPHJ"
      }
    },
    {
      "cell_type": "code",
      "source": [
        "#Your answer must go here\n",
        "names =  [\"Adam\",\"Alex\",\"Emmanuel\" ,\"Robert\", \"Finn\"]\n",
        "# here we look for the first letter which starts as a 0 and the last letter a -1\n",
        "for name in names:\n",
        "  first_letters = name[0]\n",
        "  last_letters = name[-1]\n",
        "  print(f\"Name: {name}, First Letter: {first_letters}, Last Letter: {last_letters}\")"
      ],
      "metadata": {
        "id": "65y1fHv0CVXu",
        "outputId": "d05f960f-acfc-4ed7-b67a-dee6340810b7",
        "colab": {
          "base_uri": "https://localhost:8080/"
        }
      },
      "execution_count": null,
      "outputs": [
        {
          "output_type": "stream",
          "name": "stdout",
          "text": [
            "Name: Adam, First Letter: A, Last Letter: m\n",
            "Name: Alex, First Letter: A, Last Letter: x\n",
            "Name: Emmanuel, First Letter: E, Last Letter: l\n",
            "Name: Robert, First Letter: R, Last Letter: t\n",
            "Name: Finn, First Letter: F, Last Letter: n\n"
          ]
        }
      ]
    },
    {
      "cell_type": "markdown",
      "source": [
        "Take a string as an input. Write a python program to create a new string using the first, middle, and last characters of the input string."
      ],
      "metadata": {
        "id": "VyB-z66Vcxjs"
      }
    },
    {
      "cell_type": "code",
      "source": [
        "#Your answer must go here\n"
      ],
      "metadata": {
        "id": "fywPaeQ9CWoQ"
      },
      "execution_count": null,
      "outputs": []
    },
    {
      "cell_type": "markdown",
      "source": [
        "Write a python program to take a string as an input and reverse it"
      ],
      "metadata": {
        "id": "4KoZnsVnc7K7"
      }
    },
    {
      "cell_type": "code",
      "source": [
        "#Your answer must go here\n",
        "# we use the slice statement using -1 because it has to move the step backwards pretty much\n",
        "input = \"I love UAT!\"[::-1]\n",
        "print(input)"
      ],
      "metadata": {
        "id": "-C4HsLcjCXwT",
        "outputId": "d365a165-941e-4218-a222-8b987a3035fd",
        "colab": {
          "base_uri": "https://localhost:8080/"
        }
      },
      "execution_count": null,
      "outputs": [
        {
          "output_type": "stream",
          "name": "stdout",
          "text": [
            "!TAU evol I\n"
          ]
        }
      ]
    },
    {
      "cell_type": "markdown",
      "source": [
        "**Collections**"
      ],
      "metadata": {
        "id": "x-5HZ4ghtHf-"
      }
    },
    {
      "cell_type": "markdown",
      "source": [
        "Take an input of numbers in a list and create a new list containing only the even numbers from the original list."
      ],
      "metadata": {
        "id": "iGAnSQaMs-kU"
      }
    },
    {
      "cell_type": "code",
      "source": [
        "#Your answer must go here\n",
        "# here we set up a list using its [] which makes it a list\n",
        "# now to make that list only print even numbers we have to make it divisible by two since two is even\n",
        "x = [1, 3, 4, 5, 7, 8, 9, 10, 11, 12]\n",
        "even = [value for value in x if value % 2 == 0]\n",
        "print(even)"
      ],
      "metadata": {
        "id": "du-AQi1jCema",
        "outputId": "f670e283-d443-4114-a976-f86654738f9b",
        "colab": {
          "base_uri": "https://localhost:8080/"
        }
      },
      "execution_count": 1,
      "outputs": [
        {
          "output_type": "stream",
          "name": "stdout",
          "text": [
            "[4, 8, 10, 12]\n"
          ]
        }
      ]
    },
    {
      "cell_type": "markdown",
      "source": [
        "Take a list of strings (words) and create a new list containing the lengths of each word in the original list."
      ],
      "metadata": {
        "id": "2PHWbU8HtNO-"
      }
    },
    {
      "cell_type": "code",
      "source": [
        "#Your answer must go here"
      ],
      "metadata": {
        "id": "S_vHvvR6Cfav"
      },
      "execution_count": null,
      "outputs": []
    },
    {
      "cell_type": "markdown",
      "source": [
        "Create a dictionary student_grades with keys as student names and values as their respective grades. Find the student with the highest grade and print the output"
      ],
      "metadata": {
        "id": "8gzK9MNStgx5"
      }
    },
    {
      "cell_type": "code",
      "source": [
        "#Your answer must go here\n",
        "# start of my function that looks for the highest grade\n",
        "def best_grade(student_grades):\n",
        "    # gets all of the grades and gets the max or the highest\n",
        "    highest_bestgrd = max(student_grades, key=student_grades.get)\n",
        "    highest_grd = student_grades[highest_bestgrd]\n",
        "\n",
        "    print(f\"The best student in the class is, {highest_bestgrd} with the number of {highest_grd}.\")\n",
        "# our dictionary\n",
        "student_grades = {\n",
        "    \"Joseph\" : 68,\n",
        "    \"Amber\": 87,\n",
        "    \"Alex\": 85,\n",
        "    \"Ashley\": 93\n",
        "}\n",
        "\n",
        "best_grade(student_grades)"
      ],
      "metadata": {
        "id": "dcUL0Yj3CgVQ",
        "outputId": "09992d6b-1a98-4a76-fa29-bd17afc76667",
        "colab": {
          "base_uri": "https://localhost:8080/"
        }
      },
      "execution_count": null,
      "outputs": [
        {
          "output_type": "stream",
          "name": "stdout",
          "text": [
            "The best student in the class is, Ashley with the number of 93.\n"
          ]
        }
      ]
    },
    {
      "cell_type": "markdown",
      "source": [
        "Define two sets, set1 and set2, containing some common elements. Remove the duplicate elements from set1 that are also present in set2."
      ],
      "metadata": {
        "id": "E1B78qP8tupG"
      }
    },
    {
      "cell_type": "code",
      "source": [
        "#Your answer must go here\n",
        "def remove_repetition(set1, set2):\n",
        "    # here we remove the elements from set1 that are also found in set2 using the -= which is the same as x = x-9\n",
        "    set1 -= set2\n",
        "    return set1\n",
        "# start of our two sets\n",
        "set1 = {1, 2, 3, 4, 5, 6, 7}\n",
        "set2 = {4, 6, 8}\n",
        "# we call it and print the updated set\n",
        "updatedset1 = remove_repetition(set1, set2)\n",
        "print(\"Final set: \", updatedset1)"
      ],
      "metadata": {
        "id": "yyD4jH4AChIl",
        "outputId": "11331879-a300-4d06-b317-faf480d1b431",
        "colab": {
          "base_uri": "https://localhost:8080/"
        }
      },
      "execution_count": null,
      "outputs": [
        {
          "output_type": "stream",
          "name": "stdout",
          "text": [
            "Final set:  {1, 2, 3, 5, 7}\n"
          ]
        }
      ]
    },
    {
      "cell_type": "markdown",
      "source": [
        "Create a dictionary word_count to count the occurrences of each word in a given sentence. Print the top 3 most common words along with their counts."
      ],
      "metadata": {
        "id": "2qhPexHqt0fv"
      }
    },
    {
      "cell_type": "code",
      "source": [
        "#Your answer must go here"
      ],
      "metadata": {
        "id": "XmxnACB1CiUV"
      },
      "execution_count": null,
      "outputs": []
    }
  ]
}